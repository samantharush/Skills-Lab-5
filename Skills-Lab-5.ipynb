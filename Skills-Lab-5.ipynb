{
 "cells": [
  {
   "cell_type": "code",
   "execution_count": 1,
   "metadata": {},
   "outputs": [
    {
     "name": "stdin",
     "output_type": "stream",
     "text": [
      "Please enter a name. Jonathan Price\n"
     ]
    },
    {
     "name": "stdout",
     "output_type": "stream",
     "text": [
      "Here's the name you entered: Jonathan Price\n",
      "And here it is in all caps: JONATHAN PRICE\n"
     ]
    }
   ],
   "source": [
    "#Get a name from the user\n",
    "entered_name = input(\"Please enter a name.\")\n",
    "\n",
    "#Since I don't like writing programs that do nothing with an input, I'm taking the entered name and printing it normally and in all caps\n",
    "cap_name = entered_name.upper()\n",
    "print(\"Here's the name you entered: \" + entered_name)\n",
    "print(\"And here it is in all caps: \" + cap_name)"
   ]
  },
  {
   "cell_type": "code",
   "execution_count": 2,
   "metadata": {},
   "outputs": [
    {
     "name": "stdin",
     "output_type": "stream",
     "text": [
      "Enter your age:  22\n"
     ]
    },
    {
     "name": "stdout",
     "output_type": "stream",
     "text": [
      "You're old :(\n"
     ]
    }
   ],
   "source": [
    "user_age = int(input(\"Enter your age: \"))\n",
    "\n",
    "if user_age < 18:\n",
    "    print(\"You are a minor!\")\n",
    "else:\n",
    "    print(\"You're old :(\")"
   ]
  }
 ],
 "metadata": {
  "kernelspec": {
   "display_name": "Python 3",
   "language": "python",
   "name": "python3"
  },
  "language_info": {
   "codemirror_mode": {
    "name": "ipython",
    "version": 3
   },
   "file_extension": ".py",
   "mimetype": "text/x-python",
   "name": "python",
   "nbconvert_exporter": "python",
   "pygments_lexer": "ipython3",
   "version": "3.8.5"
  }
 },
 "nbformat": 4,
 "nbformat_minor": 4
}
